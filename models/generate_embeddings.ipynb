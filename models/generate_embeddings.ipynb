{
 "cells": [
  {
   "cell_type": "markdown",
   "id": "c41ba3a6",
   "metadata": {},
   "source": [
    "## Generamos Embeddings con ESM2"
   ]
  },
  {
   "cell_type": "markdown",
   "id": "e2e9a360",
   "metadata": {},
   "source": [
    "### 1. Configuración del Tokenizador y Modelo "
   ]
  },
  {
   "cell_type": "code",
   "execution_count": 1,
   "id": "2c2354dc",
   "metadata": {},
   "outputs": [],
   "source": [
    "import torch\n",
    "import numpy as np\n",
    "from transformers import AutoTokenizer, AutoModel"
   ]
  },
  {
   "cell_type": "code",
   "execution_count": 2,
   "id": "d8c6cb6d",
   "metadata": {},
   "outputs": [],
   "source": [
    "#Cargamos modelo y tokenizador\n",
    "MODEL_NAME = \"facebook/esm2_t33_650M_UR50D\""
   ]
  },
  {
   "cell_type": "code",
   "execution_count": 3,
   "id": "7849d503",
   "metadata": {},
   "outputs": [],
   "source": [
    "tokenizer = AutoTokenizer.from_pretrained(MODEL_NAME)"
   ]
  },
  {
   "cell_type": "code",
   "execution_count": 4,
   "id": "87888dca",
   "metadata": {},
   "outputs": [
    {
     "name": "stderr",
     "output_type": "stream",
     "text": [
      "Some weights of EsmModel were not initialized from the model checkpoint at facebook/esm2_t33_650M_UR50D and are newly initialized: ['pooler.dense.bias', 'pooler.dense.weight']\n",
      "You should probably TRAIN this model on a down-stream task to be able to use it for predictions and inference.\n"
     ]
    },
    {
     "data": {
      "text/plain": [
       "EsmModel(\n",
       "  (embeddings): EsmEmbeddings(\n",
       "    (word_embeddings): Embedding(33, 1280, padding_idx=1)\n",
       "    (dropout): Dropout(p=0.0, inplace=False)\n",
       "  )\n",
       "  (encoder): EsmEncoder(\n",
       "    (layer): ModuleList(\n",
       "      (0-32): 33 x EsmLayer(\n",
       "        (attention): EsmAttention(\n",
       "          (self): EsmSelfAttention(\n",
       "            (query): Linear(in_features=1280, out_features=1280, bias=True)\n",
       "            (key): Linear(in_features=1280, out_features=1280, bias=True)\n",
       "            (value): Linear(in_features=1280, out_features=1280, bias=True)\n",
       "            (rotary_embeddings): RotaryEmbedding()\n",
       "          )\n",
       "          (output): EsmSelfOutput(\n",
       "            (dense): Linear(in_features=1280, out_features=1280, bias=True)\n",
       "            (dropout): Dropout(p=0.0, inplace=False)\n",
       "          )\n",
       "          (LayerNorm): LayerNorm((1280,), eps=1e-05, elementwise_affine=True)\n",
       "        )\n",
       "        (intermediate): EsmIntermediate(\n",
       "          (dense): Linear(in_features=1280, out_features=5120, bias=True)\n",
       "        )\n",
       "        (output): EsmOutput(\n",
       "          (dense): Linear(in_features=5120, out_features=1280, bias=True)\n",
       "          (dropout): Dropout(p=0.0, inplace=False)\n",
       "        )\n",
       "        (LayerNorm): LayerNorm((1280,), eps=1e-05, elementwise_affine=True)\n",
       "      )\n",
       "    )\n",
       "    (emb_layer_norm_after): LayerNorm((1280,), eps=1e-05, elementwise_affine=True)\n",
       "  )\n",
       "  (pooler): EsmPooler(\n",
       "    (dense): Linear(in_features=1280, out_features=1280, bias=True)\n",
       "    (activation): Tanh()\n",
       "  )\n",
       "  (contact_head): EsmContactPredictionHead(\n",
       "    (regression): Linear(in_features=660, out_features=1, bias=True)\n",
       "    (activation): Sigmoid()\n",
       "  )\n",
       ")"
      ]
     },
     "execution_count": 4,
     "metadata": {},
     "output_type": "execute_result"
    }
   ],
   "source": [
    "model = AutoModel.from_pretrained(MODEL_NAME) #Descarga el modelo por primera vez\n",
    "model.eval()"
   ]
  },
  {
   "cell_type": "markdown",
   "id": "1d3170af",
   "metadata": {},
   "source": [
    "### 2. Datos Entrada"
   ]
  },
  {
   "cell_type": "code",
   "execution_count": 5,
   "id": "37f01de2",
   "metadata": {},
   "outputs": [],
   "source": [
    "\n",
    "from custom_dataloader import CustomProteinDataset\n",
    "from torch.utils.data import DataLoader\n",
    "\n",
    "CSV_PATH = 'protein_data.csv'\n",
    "BATCH_SIZE = 5\n",
    "dataset =CustomProteinDataset(CSV_PATH)\n",
    "data_loader = DataLoader(dataset, batch_size=BATCH_SIZE, shuffle=True)"
   ]
  },
  {
   "cell_type": "markdown",
   "id": "d7bf7b4d",
   "metadata": {},
   "source": [
    "### 3. Tokenizador"
   ]
  },
  {
   "cell_type": "code",
   "execution_count": null,
   "id": "60e13b84",
   "metadata": {},
   "outputs": [],
   "source": [
    "next(iter(data_loader))"
   ]
  },
  {
   "cell_type": "code",
   "execution_count": null,
   "id": "e8039770",
   "metadata": {},
   "outputs": [],
   "source": [
    "\n",
    "inputs = tokenizer(\n",
    "    next(iter(data_loader))[0], \n",
    "    padding=True, #Padding para el mismo tamaño\n",
    "    truncation=True, #Recorta en caso de que sean muy largas\n",
    "    return_tensors=\"pt\" #Regresa tensores de pytorch\n",
    ")"
   ]
  },
  {
   "cell_type": "code",
   "execution_count": null,
   "id": "acf9999a",
   "metadata": {},
   "outputs": [],
   "source": [
    "with torch.no_grad():\n",
    "    # Pasamos los tensores tokenizados al modelo\n",
    "    outputs = model(**inputs)"
   ]
  },
  {
   "cell_type": "code",
   "execution_count": null,
   "id": "baea0a3e",
   "metadata": {},
   "outputs": [],
   "source": [
    "#Luego de pasar por la última capa tenemos  [num_secuencias, longitud_max_secuencia, dimension_emb]\n",
    "outputs.last_hidden_state.shape "
   ]
  },
  {
   "cell_type": "code",
   "execution_count": null,
   "id": "24ed2ab7",
   "metadata": {},
   "outputs": [],
   "source": [
    "embedding_por_residuo = outputs.last_hidden_state\n",
    "embedding_por_secuencia = embedding_por_residuo.mean(dim=1) #Promedio por cada secuencia"
   ]
  },
  {
   "cell_type": "code",
   "execution_count": null,
   "id": "428476a2",
   "metadata": {},
   "outputs": [],
   "source": [
    "embedding_por_secuencia.shape"
   ]
  },
  {
   "cell_type": "code",
   "execution_count": null,
   "id": "28cc1803",
   "metadata": {},
   "outputs": [],
   "source": [
    "#Opcional si queremos usar numpy, sklearn\n",
    "#embeddings_finales_numpy = embedding_por_secuencia.cpu().numpy()"
   ]
  },
  {
   "cell_type": "markdown",
   "id": "06ce2923",
   "metadata": {},
   "source": [
    "# Predictor para pLDDT de Alphafold"
   ]
  },
  {
   "cell_type": "code",
   "execution_count": 6,
   "id": "8a372e8f",
   "metadata": {},
   "outputs": [
    {
     "name": "stdout",
     "output_type": "stream",
     "text": [
      "MLP_pLDDT(\n",
      "  (network): Sequential(\n",
      "    (0): Linear(in_features=1280, out_features=1280, bias=True)\n",
      "    (1): ReLU()\n",
      "    (2): Dropout(p=0.2, inplace=False)\n",
      "    (3): Linear(in_features=1280, out_features=512, bias=True)\n",
      "    (4): ReLU()\n",
      "    (5): Dropout(p=0.2, inplace=False)\n",
      "    (6): Linear(in_features=512, out_features=254, bias=True)\n",
      "    (7): ReLU()\n",
      "    (8): Dropout(p=0.2, inplace=False)\n",
      "    (9): Linear(in_features=254, out_features=1, bias=True)\n",
      "  )\n",
      ")\n"
     ]
    }
   ],
   "source": [
    "from mlp import MLP_pLDDT\n",
    "import torch.nn as nn\n",
    "import torch.optim as optim\n",
    "\n",
    "input_size = 1280\n",
    "hidden_sizes = [1280,512,254]  # 3 capas ocultas\n",
    "output_size = 1\n",
    "\n",
    "device = \"cuda\" if torch.cuda.is_available() else \"cpu\"\n",
    "model = model.to(device)\n",
    "model_mlp = MLP_pLDDT(input_size, hidden_sizes, output_size).to(device)\n",
    "print(model_mlp)\n",
    "\n",
    "criterion = nn.MSELoss()  # Mean Squared Error para regresión\n",
    "optimizer = optim.Adam(model_mlp.parameters(), lr=0.001)"
   ]
  },
  {
   "cell_type": "code",
   "execution_count": null,
   "id": "c67d4801",
   "metadata": {},
   "outputs": [],
   "source": [
    "#MODELO DE MULTILAYER PERCEPTRON\n",
    "EPOCHS = 11\n",
    "for epoch in range(EPOCHS):\n",
    "    total_epoch_loss = 0.0\n",
    "    for i , (sequences_batch, plddts_batch) in enumerate(data_loader):\n",
    "        plddts_batch = plddts_batch.to(device)\n",
    "        inputs = tokenizer(sequences_batch, padding=True, truncation=True, return_tensors=\"pt\").to(device)\n",
    "        with torch.no_grad():\n",
    "            outputs = model(**inputs)\n",
    "        \n",
    "        embeddings_batch = outputs.last_hidden_state.mean(dim=1)\n",
    "        predictions = model_mlp(embeddings_batch)\n",
    "        loss = criterion(predictions, plddts_batch)\n",
    "\n",
    "        optimizer.zero_grad()\n",
    "        loss.backward()\n",
    "        optimizer.step()\n",
    "        total_epoch_loss += loss.item()\n",
    "\n",
    "    avg_epoch_loss = total_epoch_loss / len(data_loader)\n",
    "    print(f\"ÉPOCA {epoch + 1} / {EPOCHS} FINALIZADA\")\n",
    "    print(f\"Pérdida Promedio de la Época: {avg_epoch_loss:.4f}\")\n",
    "\n"
   ]
  },
  {
   "cell_type": "code",
   "execution_count": 7,
   "id": "7849fe10",
   "metadata": {},
   "outputs": [
    {
     "name": "stderr",
     "output_type": "stream",
     "text": [
      "Asking to truncate to max_length but no maximum length is provided and the model has no predefined maximum length. Default to no truncation.\n"
     ]
    },
    {
     "name": "stdout",
     "output_type": "stream",
     "text": [
      "ÉPOCA 1 / 30 FINALIZADA\n",
      "Pérdida Promedio de la Época: 6763.7647\n",
      "ÉPOCA 2 / 30 FINALIZADA\n",
      "Pérdida Promedio de la Época: 6106.0971\n",
      "ÉPOCA 3 / 30 FINALIZADA\n",
      "Pérdida Promedio de la Época: 5296.2391\n",
      "ÉPOCA 4 / 30 FINALIZADA\n",
      "Pérdida Promedio de la Época: 4394.8662\n",
      "ÉPOCA 5 / 30 FINALIZADA\n",
      "Pérdida Promedio de la Época: 3436.1996\n",
      "ÉPOCA 6 / 30 FINALIZADA\n",
      "Pérdida Promedio de la Época: 2532.4948\n",
      "ÉPOCA 7 / 30 FINALIZADA\n",
      "Pérdida Promedio de la Época: 1754.0055\n",
      "ÉPOCA 8 / 30 FINALIZADA\n",
      "Pérdida Promedio de la Época: 1141.1492\n",
      "ÉPOCA 9 / 30 FINALIZADA\n",
      "Pérdida Promedio de la Época: 695.5773\n",
      "ÉPOCA 10 / 30 FINALIZADA\n",
      "Pérdida Promedio de la Época: 438.5621\n",
      "ÉPOCA 11 / 30 FINALIZADA\n",
      "Pérdida Promedio de la Época: 286.6568\n",
      "ÉPOCA 12 / 30 FINALIZADA\n",
      "Pérdida Promedio de la Época: 204.1496\n",
      "ÉPOCA 13 / 30 FINALIZADA\n",
      "Pérdida Promedio de la Época: 167.7017\n",
      "ÉPOCA 14 / 30 FINALIZADA\n",
      "Pérdida Promedio de la Época: 156.6517\n",
      "ÉPOCA 15 / 30 FINALIZADA\n",
      "Pérdida Promedio de la Época: 140.8534\n",
      "ÉPOCA 16 / 30 FINALIZADA\n",
      "Pérdida Promedio de la Época: 150.7385\n",
      "ÉPOCA 17 / 30 FINALIZADA\n",
      "Pérdida Promedio de la Época: 139.4133\n",
      "ÉPOCA 18 / 30 FINALIZADA\n",
      "Pérdida Promedio de la Época: 125.4431\n",
      "ÉPOCA 19 / 30 FINALIZADA\n",
      "Pérdida Promedio de la Época: 113.4985\n",
      "ÉPOCA 20 / 30 FINALIZADA\n",
      "Pérdida Promedio de la Época: 108.1711\n",
      "ÉPOCA 21 / 30 FINALIZADA\n",
      "Pérdida Promedio de la Época: 106.1756\n",
      "ÉPOCA 22 / 30 FINALIZADA\n",
      "Pérdida Promedio de la Época: 93.3843\n",
      "ÉPOCA 23 / 30 FINALIZADA\n",
      "Pérdida Promedio de la Época: 105.3351\n",
      "ÉPOCA 24 / 30 FINALIZADA\n",
      "Pérdida Promedio de la Época: 98.1955\n",
      "ÉPOCA 25 / 30 FINALIZADA\n",
      "Pérdida Promedio de la Época: 98.0042\n",
      "ÉPOCA 26 / 30 FINALIZADA\n",
      "Pérdida Promedio de la Época: 86.6774\n",
      "ÉPOCA 27 / 30 FINALIZADA\n",
      "Pérdida Promedio de la Época: 86.9446\n",
      "ÉPOCA 28 / 30 FINALIZADA\n",
      "Pérdida Promedio de la Época: 84.2812\n",
      "ÉPOCA 29 / 30 FINALIZADA\n",
      "Pérdida Promedio de la Época: 75.8826\n",
      "ÉPOCA 30 / 30 FINALIZADA\n",
      "Pérdida Promedio de la Época: 83.1448\n"
     ]
    }
   ],
   "source": [
    "#MODELO DE CONVOLUCIÓN 1 DIMENSIÓN\n",
    "from conv1d_protein import Simple1CNN\n",
    "model_cnn = Simple1CNN().to(device)\n",
    "optimizer = optim.Adam(model_cnn.parameters(), lr=0.0001)\n",
    "EPOCHS = 30\n",
    "\n",
    "for epoch in range(EPOCHS):\n",
    "    total_epoch_loss = 0.0\n",
    "    model_cnn.train()\n",
    "    for i , (sequences_batch, plddts_batch) in enumerate(data_loader):\n",
    "        plddts_batch = plddts_batch.to(device)\n",
    "        inputs = tokenizer(sequences_batch, padding=True, truncation=True, return_tensors=\"pt\").to(device)\n",
    "        with torch.no_grad():\n",
    "            outputs = model(**inputs)\n",
    "        \n",
    "        embeddings_batch = outputs.last_hidden_state #Diferencia con el método anterior\n",
    "        predictions = model_cnn(embeddings_batch)\n",
    "        loss = criterion(predictions, plddts_batch)\n",
    "\n",
    "        optimizer.zero_grad()\n",
    "        loss.backward()\n",
    "        optimizer.step()\n",
    "        total_epoch_loss += loss.item()\n",
    "\n",
    "    avg_epoch_loss = total_epoch_loss / len(data_loader)\n",
    "    print(f\"ÉPOCA {epoch + 1} / {EPOCHS} FINALIZADA\")\n",
    "    print(f\"Pérdida Promedio de la Época: {avg_epoch_loss:.4f}\")\n",
    "\n"
   ]
  },
  {
   "cell_type": "markdown",
   "id": "574de612",
   "metadata": {},
   "source": [
    "# Predictor para ipTM de Alphafold"
   ]
  },
  {
   "cell_type": "code",
   "execution_count": null,
   "id": "ce36d354",
   "metadata": {},
   "outputs": [],
   "source": []
  },
  {
   "cell_type": "code",
   "execution_count": null,
   "id": "5ac0ecd5",
   "metadata": {},
   "outputs": [],
   "source": []
  },
  {
   "cell_type": "code",
   "execution_count": null,
   "id": "497b62d4",
   "metadata": {},
   "outputs": [],
   "source": []
  },
  {
   "cell_type": "code",
   "execution_count": null,
   "id": "692eef32",
   "metadata": {},
   "outputs": [],
   "source": []
  }
 ],
 "metadata": {
  "kernelspec": {
   "display_name": "mi_env_gpu",
   "language": "python",
   "name": "python3"
  },
  "language_info": {
   "codemirror_mode": {
    "name": "ipython",
    "version": 3
   },
   "file_extension": ".py",
   "mimetype": "text/x-python",
   "name": "python",
   "nbconvert_exporter": "python",
   "pygments_lexer": "ipython3",
   "version": "3.10.19"
  }
 },
 "nbformat": 4,
 "nbformat_minor": 5
}
