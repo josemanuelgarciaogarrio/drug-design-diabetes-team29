{
 "cells": [
  {
   "cell_type": "markdown",
   "id": "82ed5902",
   "metadata": {},
   "source": [
    "# Generamos ahora la secuencia con el ProteinMPNN"
   ]
  },
  {
   "cell_type": "code",
   "execution_count": 2,
   "id": "9aa57deb",
   "metadata": {},
   "outputs": [],
   "source": [
    "def run_proteinMPNN():\n",
    "    \"\"\"\n",
    "    Ejecuta ProteinMPNN con parámetros personalizados\n",
    "    \"\"\"\n",
    "    import subprocess\n",
    "    cmd = [\n",
    "    \"python\", \"../protein_mpnn_run.py\",\n",
    "    \"--pdb_path\", \"~/RFdiffusion/notebooks/outputs/diabetes_therapeutic_5.pdb\",\n",
    "    \"--out_folder\", \"./diabetes_5\",\n",
    "    \"--num_seq_per_target\", \"10\",\n",
    "    \"--sampling_temp\", \"0.1\",\n",
    "    \"--seed\", \"42\",\n",
    "    \"--save_score\", \"1\"\n",
    "    ]\n",
    "    \n",
    "    # Ejecutar\n",
    "    result = subprocess.run(\" \".join(cmd), shell=True, capture_output=True, text=True)\n",
    "    print(result.stdout)\n",
    "    print(result.stderr)\n",
    "    if result:\n",
    "        return True\n",
    "    return False"
   ]
  },
  {
   "cell_type": "code",
   "execution_count": 3,
   "id": "bc59edaf",
   "metadata": {},
   "outputs": [
    {
     "name": "stdout",
     "output_type": "stream",
     "text": [
      "----------------------------------------\n",
      "chain_id_jsonl is NOT loaded\n",
      "----------------------------------------\n",
      "fixed_positions_jsonl is NOT loaded\n",
      "----------------------------------------\n",
      "pssm_jsonl is NOT loaded\n",
      "----------------------------------------\n",
      "omit_AA_jsonl is NOT loaded\n",
      "----------------------------------------\n",
      "bias_AA_jsonl is NOT loaded\n",
      "----------------------------------------\n",
      "tied_positions_jsonl is NOT loaded\n",
      "----------------------------------------\n",
      "bias by residue dictionary is not loaded, or not provided\n",
      "----------------------------------------\n",
      "----------------------------------------\n",
      "Number of edges: 48\n",
      "Training noise level: 0.2A\n",
      "Generating sequences for: diabetes_therapeutic_5\n",
      "10 sequences of length 176 generated in 9.6587 seconds\n",
      "\n",
      "/home/kevinwsl/ProteinMPNN/notebooks/../protein_mpnn_run.py:178: FutureWarning: You are using `torch.load` with `weights_only=False` (the current default value), which uses the default pickle module implicitly. It is possible to construct malicious pickle data which will execute arbitrary code during unpickling (See https://github.com/pytorch/pytorch/blob/main/SECURITY.md#untrusted-models for more details). In a future release, the default value for `weights_only` will be flipped to `True`. This limits the functions that could be executed during unpickling. Arbitrary objects will no longer be allowed to be loaded via this mode unless they are explicitly allowlisted by the user via `torch.serialization.add_safe_globals`. We recommend you start setting `weights_only=True` for any use case where you don't have full control of the loaded file. Please open an issue on GitHub for any issues related to this experimental feature.\n",
      "  checkpoint = torch.load(checkpoint_path, map_location=device)\n",
      "\n",
      "✅ ProteinMPNN ejecutado correctament. Generado: True\n"
     ]
    }
   ],
   "source": [
    "fasta_file = run_proteinMPNN()\n",
    "print(f\"✅ ProteinMPNN ejecutado correctament. Generado: {fasta_file}\")"
   ]
  },
  {
   "cell_type": "code",
   "execution_count": null,
   "id": "f9a9c99c",
   "metadata": {},
   "outputs": [],
   "source": []
  }
 ],
 "metadata": {
  "kernelspec": {
   "display_name": "mlfold",
   "language": "python",
   "name": "python3"
  },
  "language_info": {
   "codemirror_mode": {
    "name": "ipython",
    "version": 3
   },
   "file_extension": ".py",
   "mimetype": "text/x-python",
   "name": "python",
   "nbconvert_exporter": "python",
   "pygments_lexer": "ipython3",
   "version": "3.9.23"
  }
 },
 "nbformat": 4,
 "nbformat_minor": 5
}
